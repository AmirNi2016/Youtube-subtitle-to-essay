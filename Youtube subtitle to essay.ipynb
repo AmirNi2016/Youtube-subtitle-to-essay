{
 "cells": [
  {
   "cell_type": "markdown",
   "metadata": {
    "collapsed": true
   },
   "source": [
    "# Youtube subtitle to essay\n",
    "\n",
    "This code turns the subtitle of a video into a continuous text by removing the time stamps and merging the lines. For downloading a youtube's subtitile use the website http://downsub.com and then give the name and path of the subtitle file to the variable `fname`.    "
   ]
  },
  {
   "cell_type": "code",
   "execution_count": 17,
   "metadata": {
    "collapsed": false,
    "scrolled": true
   },
   "outputs": [
    {
     "data": {
      "text/html": [
       "<br>Subtitle to text for: [DownSub.com] Digital Analytics Fundamentals - Lesson 1.1 Course overview.srt<br><br>"
      ],
      "text/plain": [
       "<IPython.core.display.HTML object>"
      ]
     },
     "metadata": {},
     "output_type": "display_data"
    },
    {
     "data": {
      "text/html": [
       "\n",
       "hi welcome to class my name is Justin attorney and I'm the digital analytics evangelist at Google one of the things i do is help people understand the importance of making digital analytics a central part of their business in this video I'll give you a brief overview of what you can expect in this course this self-paced course consists of several components videos and text lessons practice activities and of course assessment all of these materials will help you learn about key concepts and tools to become a better practitioner of digital analytics and google analytics in particular the class is divided into a set of units each with a subset of lessons and activities for you to complete each lesson we'll have a short video with the corresponding text lesson to learn about the material following each lesson you will complete an activity that will help you practice what you've learned during the course you have the opportunity to connect with a global community of participants the community is a place where you can discuss the activities get technical assistance and get feedback on your work you will also have the opportunity to join google hangouts where you'll hear from experts about the course material and digital analytics there will be a final assessment that reviews all of the material covered in the course to earn a certificate of completion for the course you must finish all lesson activities and pass the final assessment with the score of at least eighty percent including the time it takes to watch the short videos and complete the activities we expect the course to take four to six hours but this depends on your familiarity with the content if you find yourself spending a significant amount of time on a particular activity or if you get stuck please use the resources on the site and ask the community for help finally be sure to check out the faq page to get all of the important course information and any updates that's it we hope you enjoy the course and happy learning"
      ],
      "text/plain": [
       "<IPython.core.display.HTML object>"
      ]
     },
     "metadata": {},
     "output_type": "display_data"
    }
   ],
   "source": [
    "# Example: the first video of Google academy for digital analytics course\n",
    "# youtube video: https://www.youtube.com/watch?v=uPZSSdkGQhM\n",
    "# use http://downsub.com/ to download the subtitle\n",
    "\n",
    "fname = \"[DownSub.com] Digital Analytics Fundamentals - Lesson 1.1 Course overview.srt\"\n",
    "\n",
    "\n",
    "import numpy as np\n",
    "from IPython.display import display, HTML\n",
    "\n",
    "# reads all the lines and removes '\\n' from the end of each line\n",
    "lines = [line.rstrip('\\n') for line in open(fname)]\n",
    "\n",
    "# turns the list into numpy array for further indexing\n",
    "lines = np.array(lines)\n",
    "\n",
    "# the index of none subtitle ines\n",
    "junk = np.array([0,1],dtype=int)\n",
    "for i in range(len(lines)):\n",
    "    if lines[i] == '' :\n",
    "        junk = np.append(junk,[i,i+1,i+2])\n",
    "    i +=1\n",
    "\n",
    "# removing the indices that are larger than the length of \"lines\"\n",
    "junk = np.array([ndx for ndx in junk if ndx < len(lines)])\n",
    "\n",
    "display(HTML(\"<br>\"+\"Subtitle to text for: \"+fname+\"<br><br>\"))\n",
    "# delete the junk lines and add the subtitle line with an space \" \" between them.\n",
    "display(HTML(\"\\n\"+\" \".join(np.delete(lines,junk))))"
   ]
  },
  {
   "cell_type": "markdown",
   "metadata": {
    "collapsed": true
   },
   "source": [
    "### Comapere with the original content of the subtitle file:"
   ]
  },
  {
   "cell_type": "code",
   "execution_count": 13,
   "metadata": {
    "collapsed": false,
    "scrolled": false
   },
   "outputs": [
    {
     "data": {
      "text/html": [
       "1<br>00:00:06,970 --> 00:00:11,649<br>hi welcome to class my name is Justin<br>attorney and I'm the digital analytics<br><br>2<br>00:00:11,650 --> 00:00:13,150<br>evangelist at Google<br><br>3<br>00:00:13,150 --> 00:00:16,420<br>one of the things i do is help people<br>understand the importance of making<br><br>4<br>00:00:16,420 --> 00:00:19,600<br>digital analytics a central part of<br>their business<br><br>5<br>00:00:19,600 --> 00:00:23,740<br>in this video I'll give you a brief<br>overview of what you can expect in this<br><br>6<br>00:00:23,740 --> 00:00:29,229<br>course this self-paced course consists<br>of several components videos and text<br><br>7<br>00:00:29,230 --> 00:00:32,290<br>lessons practice activities and of<br>course assessment<br><br>8<br>00:00:32,860 --> 00:00:37,420<br>all of these materials will help you<br>learn about key concepts and tools to<br><br>9<br>00:00:37,420 --> 00:00:40,900<br>become a better practitioner of digital<br>analytics and google analytics in<br><br>10<br>00:00:40,900 --> 00:00:46,180<br>particular the class is divided into a<br>set of units each with a subset of<br><br>11<br>00:00:46,180 --> 00:00:50,19<br>lessons and activities for you to<br>complete each lesson we'll have a short<br><br>12<br>00:00:50,20 --> 00:00:54,880<br>video with the corresponding text lesson<br>to learn about the material following<br><br>13<br>00:00:54,880 --> 00:00:57,640<br>each lesson you will complete an<br>activity that will help you practice<br><br>14<br>00:00:57,640 --> 00:01:01,990<br>what you've learned during the course<br>you have the opportunity to connect with<br><br>15<br>00:01:01,990 --> 00:01:06,159<br>a global community of participants the<br>community is a place where you can<br><br>16<br>00:01:06,159 --> 00:01:10,420<br>discuss the activities get technical<br>assistance and get feedback on your work<br><br>17<br>00:01:11,50 --> 00:01:14,710<br>you will also have the opportunity to<br>join google hangouts where you'll hear<br><br>18<br>00:01:14,710 --> 00:01:17,979<br>from experts about the course material<br>and digital analytics<br><br>19<br>00:01:18,520 --> 00:01:22,720<br>there will be a final assessment that<br>reviews all of the material covered in<br><br>20<br>00:01:22,720 --> 00:01:26,679<br>the course to earn a certificate of<br>completion for the course you must<br><br>21<br>00:01:26,680 --> 00:01:31,180<br>finish all lesson activities and pass<br>the final assessment with the score of<br><br>22<br>00:01:31,180 --> 00:01:36,100<br>at least eighty percent including the<br>time it takes to watch the short videos<br><br>23<br>00:01:36,100 --> 00:01:40,899<br>and complete the activities we expect<br>the course to take four to six hours but<br><br>24<br>00:01:40,900 --> 00:01:44,380<br>this depends on your familiarity with<br>the content if you find yourself<br><br>25<br>00:01:44,380 --> 00:01:48,399<br>spending a significant amount of time on<br>a particular activity or if you get<br><br>26<br>00:01:48,400 --> 00:01:49,90<br>stuck<br><br>27<br>00:01:49,90 --> 00:01:52,119<br>please use the resources on the site and<br>ask the community for help<br><br>28<br>00:01:52,930 --> 00:01:57,159<br>finally be sure to check out the faq<br>page to get all of the important course<br><br>29<br>00:01:57,159 --> 00:01:59,200<br>information and any updates<br><br>30<br>00:01:59,200 --> 00:02:01,990<br>that's it we hope you enjoy the course<br>and happy learning<br>"
      ],
      "text/plain": [
       "<IPython.core.display.HTML object>"
      ]
     },
     "metadata": {},
     "output_type": "display_data"
    }
   ],
   "source": [
    "display(HTML(\"<br>\".join(lines)))"
   ]
  },
  {
   "cell_type": "code",
   "execution_count": null,
   "metadata": {
    "collapsed": true
   },
   "outputs": [],
   "source": []
  }
 ],
 "metadata": {
  "anaconda-cloud": {},
  "kernelspec": {
   "display_name": "Python 2",
   "language": "python",
   "name": "python2"
  },
  "language_info": {
   "codemirror_mode": {
    "name": "ipython",
    "version": 2
   },
   "file_extension": ".py",
   "mimetype": "text/x-python",
   "name": "python",
   "nbconvert_exporter": "python",
   "pygments_lexer": "ipython2",
   "version": "2.7.12"
  }
 },
 "nbformat": 4,
 "nbformat_minor": 0
}
